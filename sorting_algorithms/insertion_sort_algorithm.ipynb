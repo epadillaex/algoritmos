{
 "cells": [
  {
   "cell_type": "markdown",
   "metadata": {},
   "source": [
    "# Insertion Sort: Air Quality in India"
   ]
  },
  {
   "cell_type": "markdown",
   "metadata": {},
   "source": [
    "<div style = \"text-align: center;\">\n",
    "    <img src = \"images/india_contaminada.jpg\"\n",
    "    style = \"width:100%;height:400px;d\"\n",
    "    alt = \"Imagen\">\n",
    "\n",
    "</div>"
   ]
  },
  {
   "cell_type": "markdown",
   "metadata": {},
   "source": [
    "## 1. Introducción"
   ]
  },
  {
   "cell_type": "markdown",
   "metadata": {},
   "source": [
    "El objetivo de este proyecto es demostrar cómo el algoritmo Insertion Sort puede aplicarse a un caso real. Para ello, se simulará la recogida de datos en tiempo real sobre la calidad del aire de las distintas estaciones de lectura ubicadas en la India. El resultado final consistirá en mostrar por pantalla los datos ordenados según la lectura máxima de polución, a medida que vayan llegando."
   ]
  },
  {
   "cell_type": "markdown",
   "metadata": {},
   "source": [
    "## 2. Insertion Sort Algorithm"
   ]
  },
  {
   "cell_type": "markdown",
   "metadata": {},
   "source": [
    "**Insertion Sort** es un algoritmo que funciona de manera similar a como ordenaríasna baraja de cartas en la mano. \n",
    "\n",
    "La idea principal es que divide la lista en dos partes:\n",
    "\n",
    "* Una parte ordenada (al principio de la lista).\n",
    "* Una parte desordenada (el resto de la lista).\n",
    "\n",
    "El algoritmo toma un elemento de la parte desordenada y lo inserta en la posición correcta dentro de la parte ordenada, repitiendo este proceso hasta que todos los elementos estén ordenados."
   ]
  },
  {
   "cell_type": "markdown",
   "metadata": {},
   "source": [
    "<div style=\"text-align: center;\">\n",
    "    <img src=\"https://upload.wikimedia.org/wikipedia/commons/0/0f/Insertion-sort-example-300px.gif\" width=\"400\">\n",
    "</div>\n",
    "\n",
    "\n",
    "\n",
    "\n"
   ]
  },
  {
   "cell_type": "markdown",
   "metadata": {},
   "source": [
    "La implementación en código sería la siguiente: "
   ]
  },
  {
   "cell_type": "code",
   "execution_count": 11,
   "metadata": {},
   "outputs": [],
   "source": [
    "def insertion_sort(lista):\n",
    "    for i in range(1, len(lista)):\n",
    "        idx = i\n",
    "\n",
    "        while lista[idx] < lista[idx-1] and idx > 0:\n",
    "            lista[idx-1], lista[idx] = lista[idx], lista[idx-1]\n",
    "            idx -= 1\n",
    "    \n",
    "    return lista"
   ]
  },
  {
   "cell_type": "markdown",
   "metadata": {},
   "source": [
    "`Ejemplo:`\n",
    "\n",
    "[8, 3, 5, 2]\n",
    "\n",
    "Toma el primer elemento (8).\n",
    "\n",
    "* Como es el primero, ya se considera ordenado. -> Lista ordenada: [8]\n",
    "\n",
    "\n",
    "Toma el siguiente elemento (3).\n",
    "\n",
    "* Compara 3 con 8.\n",
    "* Como 3 es menor, lo inserta antes de 8. -> Lista ordenada: [3, 8]\n",
    "\n",
    "Toma el siguiente elemento (5).\n",
    "\n",
    "* Compara 5 con 8 → Es menor.\n",
    "* Compara 5 con 3 → Es mayor.\n",
    "* Lo coloca entre 3 y 8. -> Lista ordenada: [3, 5, 8]\n",
    "\n",
    "Toma el último elemento (2).\n",
    "\n",
    "* Compara 2 con 8 → Es menor.\n",
    "* Compara 2 con 5 → Es menor.\n",
    "* Compara 2 con 3 → Es menor.\n",
    "* Lo coloca al principio. -> Lista ordenada: [2, 3, 5, 8]"
   ]
  },
  {
   "cell_type": "code",
   "execution_count": 12,
   "metadata": {},
   "outputs": [
    {
     "data": {
      "text/plain": [
       "[2, 3, 5, 8]"
      ]
     },
     "execution_count": 12,
     "metadata": {},
     "output_type": "execute_result"
    }
   ],
   "source": [
    "insertion_sort([8, 3, 5, 2])"
   ]
  },
  {
   "cell_type": "markdown",
   "metadata": {},
   "source": [
    "No es de los algoritmos de ordenación más eficientes, pues requiere de  $O(n^{2})$ operaciones para ordenar una lista de $n$ elementos."
   ]
  },
  {
   "cell_type": "markdown",
   "metadata": {},
   "source": [
    "## 3. Aplicación"
   ]
  },
  {
   "cell_type": "code",
   "execution_count": 1,
   "metadata": {},
   "outputs": [
    {
     "name": "stdout",
     "output_type": "stream",
     "text": [
      "Requirement already satisfied: kagglehub in c:\\users\\esthe\\appdata\\local\\programs\\python\\python311\\lib\\site-packages (0.3.10)\n",
      "Requirement already satisfied: packaging in c:\\users\\esthe\\appdata\\roaming\\python\\python311\\site-packages (from kagglehub) (24.1)\n",
      "Requirement already satisfied: pyyaml in c:\\users\\esthe\\appdata\\local\\programs\\python\\python311\\lib\\site-packages (from kagglehub) (6.0.2)\n",
      "Requirement already satisfied: requests in c:\\users\\esthe\\appdata\\local\\programs\\python\\python311\\lib\\site-packages (from kagglehub) (2.32.2)\n",
      "Requirement already satisfied: tqdm in c:\\users\\esthe\\appdata\\local\\programs\\python\\python311\\lib\\site-packages (from kagglehub) (4.66.6)\n",
      "Requirement already satisfied: charset-normalizer<4,>=2 in c:\\users\\esthe\\appdata\\local\\programs\\python\\python311\\lib\\site-packages (from requests->kagglehub) (3.4.0)\n",
      "Requirement already satisfied: idna<4,>=2.5 in c:\\users\\esthe\\appdata\\local\\programs\\python\\python311\\lib\\site-packages (from requests->kagglehub) (3.10)\n",
      "Requirement already satisfied: urllib3<3,>=1.21.1 in c:\\users\\esthe\\appdata\\local\\programs\\python\\python311\\lib\\site-packages (from requests->kagglehub) (2.2.3)\n",
      "Requirement already satisfied: certifi>=2017.4.17 in c:\\users\\esthe\\appdata\\local\\programs\\python\\python311\\lib\\site-packages (from requests->kagglehub) (2024.8.30)\n",
      "Requirement already satisfied: colorama in c:\\users\\esthe\\appdata\\roaming\\python\\python311\\site-packages (from tqdm->kagglehub) (0.4.6)\n",
      "Note: you may need to restart the kernel to use updated packages.\n"
     ]
    },
    {
     "name": "stderr",
     "output_type": "stream",
     "text": [
      "\n",
      "[notice] A new release of pip is available: 24.3.1 -> 25.0.1\n",
      "[notice] To update, run: python.exe -m pip install --upgrade pip\n"
     ]
    }
   ],
   "source": [
    "%pip install kagglehub"
   ]
  },
  {
   "cell_type": "code",
   "execution_count": 2,
   "metadata": {},
   "outputs": [],
   "source": [
    "import kagglehub\n",
    "import os\n",
    "import pandas as pd\n",
    "import time\n",
    "from IPython.display import clear_output"
   ]
  },
  {
   "cell_type": "code",
   "execution_count": 3,
   "metadata": {},
   "outputs": [],
   "source": [
    "# Download latest version\n",
    "path = kagglehub.dataset_download(\"vijayveersingh/air-quality-index-in-india\")"
   ]
  },
  {
   "cell_type": "code",
   "execution_count": 4,
   "metadata": {},
   "outputs": [
    {
     "name": "stdout",
     "output_type": "stream",
     "text": [
      "Archivos disponibles: ['3b01bcb8-0b14-4abf-b6f2-c1bfd384ba69.csv']\n"
     ]
    }
   ],
   "source": [
    "files = os.listdir(path)\n",
    "print(\"Archivos disponibles:\", files)"
   ]
  },
  {
   "cell_type": "code",
   "execution_count": 5,
   "metadata": {},
   "outputs": [],
   "source": [
    "csv_file = files[0]"
   ]
  },
  {
   "cell_type": "code",
   "execution_count": 6,
   "metadata": {},
   "outputs": [
    {
     "data": {
      "text/html": [
       "<div>\n",
       "<style scoped>\n",
       "    .dataframe tbody tr th:only-of-type {\n",
       "        vertical-align: middle;\n",
       "    }\n",
       "\n",
       "    .dataframe tbody tr th {\n",
       "        vertical-align: top;\n",
       "    }\n",
       "\n",
       "    .dataframe thead th {\n",
       "        text-align: right;\n",
       "    }\n",
       "</style>\n",
       "<table border=\"1\" class=\"dataframe\">\n",
       "  <thead>\n",
       "    <tr style=\"text-align: right;\">\n",
       "      <th></th>\n",
       "      <th>country</th>\n",
       "      <th>state</th>\n",
       "      <th>city</th>\n",
       "      <th>station</th>\n",
       "      <th>last_update</th>\n",
       "      <th>latitude</th>\n",
       "      <th>longitude</th>\n",
       "      <th>pollutant_id</th>\n",
       "      <th>pollutant_min</th>\n",
       "      <th>pollutant_max</th>\n",
       "      <th>pollutant_avg</th>\n",
       "    </tr>\n",
       "  </thead>\n",
       "  <tbody>\n",
       "    <tr>\n",
       "      <th>0</th>\n",
       "      <td>India</td>\n",
       "      <td>Bihar</td>\n",
       "      <td>Patna</td>\n",
       "      <td>DRM Office Danapur, Patna - BSPCB</td>\n",
       "      <td>07-01-2025 17:00:00</td>\n",
       "      <td>25.586562</td>\n",
       "      <td>85.043586</td>\n",
       "      <td>OZONE</td>\n",
       "      <td>4.0</td>\n",
       "      <td>16.0</td>\n",
       "      <td>11.0</td>\n",
       "    </tr>\n",
       "    <tr>\n",
       "      <th>1</th>\n",
       "      <td>India</td>\n",
       "      <td>Chhattisgarh</td>\n",
       "      <td>Kunjemura</td>\n",
       "      <td>OP Jindal School, Kunjemura - CECB</td>\n",
       "      <td>07-01-2025 17:00:00</td>\n",
       "      <td>22.126650</td>\n",
       "      <td>83.483212</td>\n",
       "      <td>OZONE</td>\n",
       "      <td>3.0</td>\n",
       "      <td>4.0</td>\n",
       "      <td>3.0</td>\n",
       "    </tr>\n",
       "    <tr>\n",
       "      <th>2</th>\n",
       "      <td>India</td>\n",
       "      <td>Arunachal_Pradesh</td>\n",
       "      <td>Naharlagun</td>\n",
       "      <td>Naharlagun, Naharlagun - APSPCB</td>\n",
       "      <td>07-01-2025 17:00:00</td>\n",
       "      <td>27.103358</td>\n",
       "      <td>93.679645</td>\n",
       "      <td>OZONE</td>\n",
       "      <td>3.0</td>\n",
       "      <td>3.0</td>\n",
       "      <td>3.0</td>\n",
       "    </tr>\n",
       "    <tr>\n",
       "      <th>3</th>\n",
       "      <td>India</td>\n",
       "      <td>Assam</td>\n",
       "      <td>Guwahati</td>\n",
       "      <td>LGBI Airport, Guwahati - PCBA</td>\n",
       "      <td>07-01-2025 17:00:00</td>\n",
       "      <td>26.108870</td>\n",
       "      <td>91.589544</td>\n",
       "      <td>OZONE</td>\n",
       "      <td>16.0</td>\n",
       "      <td>22.0</td>\n",
       "      <td>19.0</td>\n",
       "    </tr>\n",
       "    <tr>\n",
       "      <th>4</th>\n",
       "      <td>India</td>\n",
       "      <td>Chhattisgarh</td>\n",
       "      <td>Bhilai</td>\n",
       "      <td>32Bungalows, Bhilai - CECB</td>\n",
       "      <td>07-01-2025 17:00:00</td>\n",
       "      <td>21.194815</td>\n",
       "      <td>81.314770</td>\n",
       "      <td>OZONE</td>\n",
       "      <td>1.0</td>\n",
       "      <td>77.0</td>\n",
       "      <td>65.0</td>\n",
       "    </tr>\n",
       "  </tbody>\n",
       "</table>\n",
       "</div>"
      ],
      "text/plain": [
       "  country              state        city                             station  \\\n",
       "0   India              Bihar       Patna   DRM Office Danapur, Patna - BSPCB   \n",
       "1   India       Chhattisgarh   Kunjemura  OP Jindal School, Kunjemura - CECB   \n",
       "2   India  Arunachal_Pradesh  Naharlagun     Naharlagun, Naharlagun - APSPCB   \n",
       "3   India              Assam    Guwahati       LGBI Airport, Guwahati - PCBA   \n",
       "4   India       Chhattisgarh      Bhilai          32Bungalows, Bhilai - CECB   \n",
       "\n",
       "           last_update   latitude  longitude pollutant_id  pollutant_min  \\\n",
       "0  07-01-2025 17:00:00  25.586562  85.043586        OZONE            4.0   \n",
       "1  07-01-2025 17:00:00  22.126650  83.483212        OZONE            3.0   \n",
       "2  07-01-2025 17:00:00  27.103358  93.679645        OZONE            3.0   \n",
       "3  07-01-2025 17:00:00  26.108870  91.589544        OZONE           16.0   \n",
       "4  07-01-2025 17:00:00  21.194815  81.314770        OZONE            1.0   \n",
       "\n",
       "   pollutant_max  pollutant_avg  \n",
       "0           16.0           11.0  \n",
       "1            4.0            3.0  \n",
       "2            3.0            3.0  \n",
       "3           22.0           19.0  \n",
       "4           77.0           65.0  "
      ]
     },
     "metadata": {},
     "output_type": "display_data"
    }
   ],
   "source": [
    "df = pd.read_csv(os.path.join(path, csv_file))\n",
    "display(df.head())"
   ]
  },
  {
   "cell_type": "markdown",
   "metadata": {},
   "source": [
    "Para poder simular que los datos están llegando en tiempo real vamos a ayudarnos de una función generadora."
   ]
  },
  {
   "cell_type": "code",
   "execution_count": null,
   "metadata": {},
   "outputs": [],
   "source": [
    "def generar_datos(df):\n",
    "    for _, row in df.iterrows():\n",
    "        yield row\n",
    "        time.sleep(1.0)  # Simulamos el delay de llegada de datos"
   ]
  },
  {
   "cell_type": "markdown",
   "metadata": {},
   "source": [
    "Reescribimos el algoritmo de forma que sirva para el caso que nos ocupa."
   ]
  },
  {
   "cell_type": "code",
   "execution_count": null,
   "metadata": {},
   "outputs": [],
   "source": [
    "def insertion_sort_df(df, new_row):\n",
    "    if df.empty:\n",
    "        return pd.concat([df, pd.DataFrame([new_row])], ignore_index=True)\n",
    "\n",
    "    inserted = False\n",
    "    for i in range(len(df)):\n",
    "        if new_row[\"pollutant_max\"] > df.loc[i, \"pollutant_max\"]:\n",
    "            df = pd.concat([df.iloc[:i], pd.DataFrame([new_row]), df.iloc[i:]], ignore_index=True)\n",
    "            inserted = True\n",
    "            break\n",
    "    \n",
    "    if not inserted:\n",
    "        df = pd.concat([df, pd.DataFrame([new_row])], ignore_index=True)\n",
    "    \n",
    "    return df"
   ]
  },
  {
   "cell_type": "code",
   "execution_count": 9,
   "metadata": {},
   "outputs": [],
   "source": [
    "# DataFrame vacío donde se irán insertando los datos ordenados\n",
    "columns = df.columns\n",
    "df_ordenado = pd.DataFrame(columns=columns)"
   ]
  },
  {
   "cell_type": "code",
   "execution_count": null,
   "metadata": {},
   "outputs": [
    {
     "data": {
      "text/html": [
       "<div>\n",
       "<style scoped>\n",
       "    .dataframe tbody tr th:only-of-type {\n",
       "        vertical-align: middle;\n",
       "    }\n",
       "\n",
       "    .dataframe tbody tr th {\n",
       "        vertical-align: top;\n",
       "    }\n",
       "\n",
       "    .dataframe thead th {\n",
       "        text-align: right;\n",
       "    }\n",
       "</style>\n",
       "<table border=\"1\" class=\"dataframe\">\n",
       "  <thead>\n",
       "    <tr style=\"text-align: right;\">\n",
       "      <th></th>\n",
       "      <th>country</th>\n",
       "      <th>state</th>\n",
       "      <th>city</th>\n",
       "      <th>station</th>\n",
       "      <th>last_update</th>\n",
       "      <th>latitude</th>\n",
       "      <th>longitude</th>\n",
       "      <th>pollutant_id</th>\n",
       "      <th>pollutant_min</th>\n",
       "      <th>pollutant_max</th>\n",
       "      <th>pollutant_avg</th>\n",
       "    </tr>\n",
       "  </thead>\n",
       "  <tbody>\n",
       "    <tr>\n",
       "      <th>0</th>\n",
       "      <td>India</td>\n",
       "      <td>Delhi</td>\n",
       "      <td>Delhi</td>\n",
       "      <td>Punjabi Bagh, Delhi - DPCC</td>\n",
       "      <td>07-01-2025 17:00:00</td>\n",
       "      <td>28.674045</td>\n",
       "      <td>77.131023</td>\n",
       "      <td>OZONE</td>\n",
       "      <td>14.0</td>\n",
       "      <td>326.0</td>\n",
       "      <td>170.0</td>\n",
       "    </tr>\n",
       "    <tr>\n",
       "      <th>1</th>\n",
       "      <td>India</td>\n",
       "      <td>Haryana</td>\n",
       "      <td>Faridabad</td>\n",
       "      <td>New Industrial Town, Faridabad - HSPCB</td>\n",
       "      <td>07-01-2025 17:00:00</td>\n",
       "      <td>28.390720</td>\n",
       "      <td>77.300590</td>\n",
       "      <td>OZONE</td>\n",
       "      <td>30.0</td>\n",
       "      <td>320.0</td>\n",
       "      <td>71.0</td>\n",
       "    </tr>\n",
       "    <tr>\n",
       "      <th>2</th>\n",
       "      <td>India</td>\n",
       "      <td>Maharashtra</td>\n",
       "      <td>Mumbai</td>\n",
       "      <td>Ghatkopar, Mumbai - BMC</td>\n",
       "      <td>07-01-2025 17:00:00</td>\n",
       "      <td>19.083694</td>\n",
       "      <td>72.920967</td>\n",
       "      <td>OZONE</td>\n",
       "      <td>15.0</td>\n",
       "      <td>291.0</td>\n",
       "      <td>251.0</td>\n",
       "    </tr>\n",
       "    <tr>\n",
       "      <th>3</th>\n",
       "      <td>India</td>\n",
       "      <td>Odisha</td>\n",
       "      <td>Cuttack</td>\n",
       "      <td>CDA Area, Cuttack - OSPCB</td>\n",
       "      <td>07-01-2025 17:00:00</td>\n",
       "      <td>20.488910</td>\n",
       "      <td>85.847680</td>\n",
       "      <td>OZONE</td>\n",
       "      <td>3.0</td>\n",
       "      <td>240.0</td>\n",
       "      <td>179.0</td>\n",
       "    </tr>\n",
       "    <tr>\n",
       "      <th>4</th>\n",
       "      <td>India</td>\n",
       "      <td>TamilNadu</td>\n",
       "      <td>Chennai</td>\n",
       "      <td>Manali Village, Chennai - TNPCB</td>\n",
       "      <td>07-01-2025 17:00:00</td>\n",
       "      <td>13.166200</td>\n",
       "      <td>80.258400</td>\n",
       "      <td>OZONE</td>\n",
       "      <td>29.0</td>\n",
       "      <td>217.0</td>\n",
       "      <td>47.0</td>\n",
       "    </tr>\n",
       "    <tr>\n",
       "      <th>...</th>\n",
       "      <td>...</td>\n",
       "      <td>...</td>\n",
       "      <td>...</td>\n",
       "      <td>...</td>\n",
       "      <td>...</td>\n",
       "      <td>...</td>\n",
       "      <td>...</td>\n",
       "      <td>...</td>\n",
       "      <td>...</td>\n",
       "      <td>...</td>\n",
       "      <td>...</td>\n",
       "    </tr>\n",
       "    <tr>\n",
       "      <th>498</th>\n",
       "      <td>India</td>\n",
       "      <td>TamilNadu</td>\n",
       "      <td>Ranipet</td>\n",
       "      <td>VOC Nagar_SIPCOT, Ranipet - TNPCB</td>\n",
       "      <td>07-01-2025 17:00:00</td>\n",
       "      <td>12.952707</td>\n",
       "      <td>79.303940</td>\n",
       "      <td>OZONE</td>\n",
       "      <td>1.0</td>\n",
       "      <td>1.0</td>\n",
       "      <td>1.0</td>\n",
       "    </tr>\n",
       "    <tr>\n",
       "      <th>499</th>\n",
       "      <td>India</td>\n",
       "      <td>Uttar_Pradesh</td>\n",
       "      <td>Varanasi</td>\n",
       "      <td>IESD Banaras Hindu University, Varanasi - UPPCB</td>\n",
       "      <td>07-01-2025 17:00:00</td>\n",
       "      <td>25.262326</td>\n",
       "      <td>82.995408</td>\n",
       "      <td>OZONE</td>\n",
       "      <td>1.0</td>\n",
       "      <td>1.0</td>\n",
       "      <td>1.0</td>\n",
       "    </tr>\n",
       "    <tr>\n",
       "      <th>500</th>\n",
       "      <td>India</td>\n",
       "      <td>Maharashtra</td>\n",
       "      <td>Solapur</td>\n",
       "      <td>Solapur, Solapur - MPCB</td>\n",
       "      <td>07-01-2025 17:00:00</td>\n",
       "      <td>17.659919</td>\n",
       "      <td>75.906391</td>\n",
       "      <td>SO2</td>\n",
       "      <td>NaN</td>\n",
       "      <td>NaN</td>\n",
       "      <td>NaN</td>\n",
       "    </tr>\n",
       "    <tr>\n",
       "      <th>501</th>\n",
       "      <td>India</td>\n",
       "      <td>Chhattisgarh</td>\n",
       "      <td>Tumidih</td>\n",
       "      <td>OP Jindal Industrial Park, Tumidih - CECB</td>\n",
       "      <td>07-01-2025 17:00:00</td>\n",
       "      <td>22.066315</td>\n",
       "      <td>83.338201</td>\n",
       "      <td>OZONE</td>\n",
       "      <td>NaN</td>\n",
       "      <td>NaN</td>\n",
       "      <td>NaN</td>\n",
       "    </tr>\n",
       "    <tr>\n",
       "      <th>502</th>\n",
       "      <td>India</td>\n",
       "      <td>Gujarat</td>\n",
       "      <td>Nandesari</td>\n",
       "      <td>GIDC, Nandesari - Nandesari Ind. Association</td>\n",
       "      <td>07-01-2025 17:00:00</td>\n",
       "      <td>22.410802</td>\n",
       "      <td>73.097923</td>\n",
       "      <td>NO2</td>\n",
       "      <td>NaN</td>\n",
       "      <td>NaN</td>\n",
       "      <td>NaN</td>\n",
       "    </tr>\n",
       "  </tbody>\n",
       "</table>\n",
       "<p>503 rows × 11 columns</p>\n",
       "</div>"
      ],
      "text/plain": [
       "    country          state       city  \\\n",
       "0     India          Delhi      Delhi   \n",
       "1     India        Haryana  Faridabad   \n",
       "2     India    Maharashtra     Mumbai   \n",
       "3     India         Odisha    Cuttack   \n",
       "4     India      TamilNadu    Chennai   \n",
       "..      ...            ...        ...   \n",
       "498   India      TamilNadu    Ranipet   \n",
       "499   India  Uttar_Pradesh   Varanasi   \n",
       "500   India    Maharashtra    Solapur   \n",
       "501   India   Chhattisgarh    Tumidih   \n",
       "502   India        Gujarat  Nandesari   \n",
       "\n",
       "                                             station          last_update  \\\n",
       "0                         Punjabi Bagh, Delhi - DPCC  07-01-2025 17:00:00   \n",
       "1             New Industrial Town, Faridabad - HSPCB  07-01-2025 17:00:00   \n",
       "2                            Ghatkopar, Mumbai - BMC  07-01-2025 17:00:00   \n",
       "3                          CDA Area, Cuttack - OSPCB  07-01-2025 17:00:00   \n",
       "4                    Manali Village, Chennai - TNPCB  07-01-2025 17:00:00   \n",
       "..                                               ...                  ...   \n",
       "498                VOC Nagar_SIPCOT, Ranipet - TNPCB  07-01-2025 17:00:00   \n",
       "499  IESD Banaras Hindu University, Varanasi - UPPCB  07-01-2025 17:00:00   \n",
       "500                          Solapur, Solapur - MPCB  07-01-2025 17:00:00   \n",
       "501        OP Jindal Industrial Park, Tumidih - CECB  07-01-2025 17:00:00   \n",
       "502     GIDC, Nandesari - Nandesari Ind. Association  07-01-2025 17:00:00   \n",
       "\n",
       "      latitude  longitude pollutant_id  pollutant_min  pollutant_max  \\\n",
       "0    28.674045  77.131023        OZONE           14.0          326.0   \n",
       "1    28.390720  77.300590        OZONE           30.0          320.0   \n",
       "2    19.083694  72.920967        OZONE           15.0          291.0   \n",
       "3    20.488910  85.847680        OZONE            3.0          240.0   \n",
       "4    13.166200  80.258400        OZONE           29.0          217.0   \n",
       "..         ...        ...          ...            ...            ...   \n",
       "498  12.952707  79.303940        OZONE            1.0            1.0   \n",
       "499  25.262326  82.995408        OZONE            1.0            1.0   \n",
       "500  17.659919  75.906391          SO2            NaN            NaN   \n",
       "501  22.066315  83.338201        OZONE            NaN            NaN   \n",
       "502  22.410802  73.097923          NO2            NaN            NaN   \n",
       "\n",
       "     pollutant_avg  \n",
       "0            170.0  \n",
       "1             71.0  \n",
       "2            251.0  \n",
       "3            179.0  \n",
       "4             47.0  \n",
       "..             ...  \n",
       "498            1.0  \n",
       "499            1.0  \n",
       "500            NaN  \n",
       "501            NaN  \n",
       "502            NaN  \n",
       "\n",
       "[503 rows x 11 columns]"
      ]
     },
     "metadata": {},
     "output_type": "display_data"
    }
   ],
   "source": [
    "for dato in generar_datos(df):# Iteramos los datos como si fueran llegando uno por uno\n",
    "    \n",
    "    df_ordenado = insertion_sort_df(df_ordenado, dato)\n",
    "\n",
    "    display(df_ordenado)\n",
    "    \n",
    "    \n",
    "    clear_output(wait=True) # Limpiamos la consola para que saga la tabla actualizada en cada iteración\n"
   ]
  },
  {
   "cell_type": "markdown",
   "metadata": {},
   "source": [
    "## 4. Referencias"
   ]
  },
  {
   "cell_type": "markdown",
   "metadata": {},
   "source": [
    "* https://es.wikipedia.org/wiki/Ordenamiento_por_inserci%C3%B3n\n",
    "* Conjunto de datos: https://www.kaggle.com/datasets/vijayveersingh/air-quality-index-in-india"
   ]
  }
 ],
 "metadata": {
  "kernelspec": {
   "display_name": "Python 3",
   "language": "python",
   "name": "python3"
  },
  "language_info": {
   "codemirror_mode": {
    "name": "ipython",
    "version": 3
   },
   "file_extension": ".py",
   "mimetype": "text/x-python",
   "name": "python",
   "nbconvert_exporter": "python",
   "pygments_lexer": "ipython3",
   "version": "3.11.9"
  }
 },
 "nbformat": 4,
 "nbformat_minor": 2
}
